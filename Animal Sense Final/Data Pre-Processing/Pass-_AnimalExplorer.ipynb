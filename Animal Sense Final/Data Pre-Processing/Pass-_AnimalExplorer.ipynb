{
 "cells": [
  {
   "cell_type": "markdown",
   "metadata": {},
   "source": [
    "@Author: Rajat Nandardhane<br>\n",
    "Date: 25th April 2020<br>\n",
    "SourceControl: 1.6"
   ]
  },
  {
   "cell_type": "code",
   "execution_count": 23,
   "metadata": {},
   "outputs": [],
   "source": [
    "import pandas as pa\n",
    "import numpy as np"
   ]
  },
  {
   "cell_type": "code",
   "execution_count": 24,
   "metadata": {},
   "outputs": [
    {
     "name": "stderr",
     "output_type": "stream",
     "text": [
      "/Users/root1/opt/anaconda3/lib/python3.7/site-packages/IPython/core/interactiveshell.py:3063: DtypeWarning: Columns (15,54,56) have mixed types.Specify dtype option on import or set low_memory=False.\n",
      "  interactivity=interactivity, compiler=compiler, result=result)\n",
      "/Users/root1/opt/anaconda3/lib/python3.7/site-packages/IPython/core/interactiveshell.py:3063: DtypeWarning: Columns (42) have mixed types.Specify dtype option on import or set low_memory=False.\n",
      "  interactivity=interactivity, compiler=compiler, result=result)\n"
     ]
    }
   ],
   "source": [
    "vicData=pa.read_csv(\"States/vic.csv\")\n",
    "nswData=pa.read_csv(\"States/nsw.csv\")\n",
    "qldData=pa.read_csv(\"States/qld.csv\")\n",
    "ntData=pa.read_csv(\"States/nt.csv\")\n",
    "waData=pa.read_csv(\"States/wa.csv\")\n",
    "tasData=pa.read_csv(\"States/tas.csv\")\n",
    "actData=pa.read_csv(\"States/act.csv\")\n",
    "saData=pa.read_csv(\"States/sa.csv\")"
   ]
  },
  {
   "cell_type": "code",
   "execution_count": 25,
   "metadata": {},
   "outputs": [
    {
     "name": "stdout",
     "output_type": "stream",
     "text": [
      "(9525, 57)\n",
      "(9560, 57)\n",
      "(59996, 57)\n",
      "(4955, 57)\n",
      "(4197, 57)\n",
      "(35103, 57)\n",
      "(31, 57)\n",
      "(64829, 57)\n"
     ]
    }
   ],
   "source": [
    "print(vicData.shape)\n",
    "print(nswData.shape)\n",
    "print(qldData.shape)\n",
    "print(ntData.shape)\n",
    "print(waData.shape)\n",
    "print(tasData.shape)\n",
    "print(actData.shape)\n",
    "print(saData.shape)"
   ]
  },
  {
   "cell_type": "code",
   "execution_count": 26,
   "metadata": {},
   "outputs": [
    {
     "data": {
      "text/plain": [
       "(188196, 57)"
      ]
     },
     "execution_count": 26,
     "metadata": {},
     "output_type": "execute_result"
    }
   ],
   "source": [
    "masterData=pa.concat([vicData,nswData])\n",
    "masterData=pa.concat([masterData,qldData])\n",
    "masterData=pa.concat([masterData,ntData])\n",
    "masterData=pa.concat([masterData,waData])\n",
    "masterData=pa.concat([masterData,tasData])\n",
    "masterData=pa.concat([masterData,actData])\n",
    "masterData=pa.concat([masterData,saData])\n",
    "masterData.shape"
   ]
  },
  {
   "cell_type": "code",
   "execution_count": 27,
   "metadata": {},
   "outputs": [
    {
     "data": {
      "text/html": [
       "<div>\n",
       "<style scoped>\n",
       "    .dataframe tbody tr th:only-of-type {\n",
       "        vertical-align: middle;\n",
       "    }\n",
       "\n",
       "    .dataframe tbody tr th {\n",
       "        vertical-align: top;\n",
       "    }\n",
       "\n",
       "    .dataframe thead th {\n",
       "        text-align: right;\n",
       "    }\n",
       "</style>\n",
       "<table border=\"1\" class=\"dataframe\">\n",
       "  <thead>\n",
       "    <tr style=\"text-align: right;\">\n",
       "      <th></th>\n",
       "      <th>Latitude - original</th>\n",
       "      <th>Longitude - original</th>\n",
       "      <th>Latitude</th>\n",
       "      <th>Longitude</th>\n",
       "      <th>Coordinate Precision</th>\n",
       "      <th>Coordinate Uncertainty in Metres</th>\n",
       "      <th>Minimum elevation in meters</th>\n",
       "      <th>Maximum elevation in meters</th>\n",
       "      <th>Minimum depth in meters</th>\n",
       "      <th>Maximum depth in meters</th>\n",
       "      <th>Year</th>\n",
       "      <th>Month</th>\n",
       "      <th>Day</th>\n",
       "    </tr>\n",
       "  </thead>\n",
       "  <tbody>\n",
       "    <tr>\n",
       "      <th>count</th>\n",
       "      <td>186308.000000</td>\n",
       "      <td>186308.000000</td>\n",
       "      <td>186345.000000</td>\n",
       "      <td>186345.000000</td>\n",
       "      <td>0.0</td>\n",
       "      <td>135974.000000</td>\n",
       "      <td>5053.000000</td>\n",
       "      <td>5053.000000</td>\n",
       "      <td>13003.0</td>\n",
       "      <td>13003.0</td>\n",
       "      <td>175028.000000</td>\n",
       "      <td>166584.000000</td>\n",
       "      <td>153917.000000</td>\n",
       "    </tr>\n",
       "    <tr>\n",
       "      <th>mean</th>\n",
       "      <td>-31.625174</td>\n",
       "      <td>143.807531</td>\n",
       "      <td>-31.625300</td>\n",
       "      <td>143.809020</td>\n",
       "      <td>NaN</td>\n",
       "      <td>2047.635611</td>\n",
       "      <td>395.523685</td>\n",
       "      <td>395.953924</td>\n",
       "      <td>0.0</td>\n",
       "      <td>0.0</td>\n",
       "      <td>2003.722513</td>\n",
       "      <td>6.255030</td>\n",
       "      <td>15.467902</td>\n",
       "    </tr>\n",
       "    <tr>\n",
       "      <th>std</th>\n",
       "      <td>9.761606</td>\n",
       "      <td>8.036592</td>\n",
       "      <td>9.758383</td>\n",
       "      <td>8.036814</td>\n",
       "      <td>NaN</td>\n",
       "      <td>7778.220042</td>\n",
       "      <td>303.879711</td>\n",
       "      <td>304.300563</td>\n",
       "      <td>0.0</td>\n",
       "      <td>0.0</td>\n",
       "      <td>12.761199</td>\n",
       "      <td>3.306597</td>\n",
       "      <td>8.713654</td>\n",
       "    </tr>\n",
       "    <tr>\n",
       "      <th>min</th>\n",
       "      <td>-54.820509</td>\n",
       "      <td>113.000000</td>\n",
       "      <td>-54.820509</td>\n",
       "      <td>113.000000</td>\n",
       "      <td>NaN</td>\n",
       "      <td>-1.000000</td>\n",
       "      <td>0.000000</td>\n",
       "      <td>0.000000</td>\n",
       "      <td>0.0</td>\n",
       "      <td>0.0</td>\n",
       "      <td>1836.000000</td>\n",
       "      <td>1.000000</td>\n",
       "      <td>1.000000</td>\n",
       "    </tr>\n",
       "    <tr>\n",
       "      <th>25%</th>\n",
       "      <td>-36.144014</td>\n",
       "      <td>136.846215</td>\n",
       "      <td>-36.141100</td>\n",
       "      <td>136.846490</td>\n",
       "      <td>NaN</td>\n",
       "      <td>50.000000</td>\n",
       "      <td>334.000000</td>\n",
       "      <td>334.000000</td>\n",
       "      <td>0.0</td>\n",
       "      <td>0.0</td>\n",
       "      <td>2000.000000</td>\n",
       "      <td>3.000000</td>\n",
       "      <td>9.000000</td>\n",
       "    </tr>\n",
       "    <tr>\n",
       "      <th>50%</th>\n",
       "      <td>-33.017995</td>\n",
       "      <td>145.300000</td>\n",
       "      <td>-33.016342</td>\n",
       "      <td>145.300000</td>\n",
       "      <td>NaN</td>\n",
       "      <td>100.000000</td>\n",
       "      <td>353.000000</td>\n",
       "      <td>353.000000</td>\n",
       "      <td>0.0</td>\n",
       "      <td>0.0</td>\n",
       "      <td>2005.000000</td>\n",
       "      <td>6.000000</td>\n",
       "      <td>15.000000</td>\n",
       "    </tr>\n",
       "    <tr>\n",
       "      <th>75%</th>\n",
       "      <td>-26.600000</td>\n",
       "      <td>149.606622</td>\n",
       "      <td>-26.600000</td>\n",
       "      <td>149.623300</td>\n",
       "      <td>NaN</td>\n",
       "      <td>500.000000</td>\n",
       "      <td>474.000000</td>\n",
       "      <td>474.000000</td>\n",
       "      <td>0.0</td>\n",
       "      <td>0.0</td>\n",
       "      <td>2012.000000</td>\n",
       "      <td>9.000000</td>\n",
       "      <td>23.000000</td>\n",
       "    </tr>\n",
       "    <tr>\n",
       "      <th>max</th>\n",
       "      <td>35.333333</td>\n",
       "      <td>159.075000</td>\n",
       "      <td>-9.133300</td>\n",
       "      <td>159.075000</td>\n",
       "      <td>NaN</td>\n",
       "      <td>1000000.000000</td>\n",
       "      <td>2100.000000</td>\n",
       "      <td>2100.000000</td>\n",
       "      <td>0.0</td>\n",
       "      <td>0.0</td>\n",
       "      <td>2020.000000</td>\n",
       "      <td>12.000000</td>\n",
       "      <td>31.000000</td>\n",
       "    </tr>\n",
       "  </tbody>\n",
       "</table>\n",
       "</div>"
      ],
      "text/plain": [
       "       Latitude - original  Longitude - original       Latitude  \\\n",
       "count        186308.000000         186308.000000  186345.000000   \n",
       "mean            -31.625174            143.807531     -31.625300   \n",
       "std               9.761606              8.036592       9.758383   \n",
       "min             -54.820509            113.000000     -54.820509   \n",
       "25%             -36.144014            136.846215     -36.141100   \n",
       "50%             -33.017995            145.300000     -33.016342   \n",
       "75%             -26.600000            149.606622     -26.600000   \n",
       "max              35.333333            159.075000      -9.133300   \n",
       "\n",
       "           Longitude  Coordinate Precision  Coordinate Uncertainty in Metres  \\\n",
       "count  186345.000000                   0.0                     135974.000000   \n",
       "mean      143.809020                   NaN                       2047.635611   \n",
       "std         8.036814                   NaN                       7778.220042   \n",
       "min       113.000000                   NaN                         -1.000000   \n",
       "25%       136.846490                   NaN                         50.000000   \n",
       "50%       145.300000                   NaN                        100.000000   \n",
       "75%       149.623300                   NaN                        500.000000   \n",
       "max       159.075000                   NaN                    1000000.000000   \n",
       "\n",
       "       Minimum elevation in meters  Maximum elevation in meters  \\\n",
       "count                  5053.000000                  5053.000000   \n",
       "mean                    395.523685                   395.953924   \n",
       "std                     303.879711                   304.300563   \n",
       "min                       0.000000                     0.000000   \n",
       "25%                     334.000000                   334.000000   \n",
       "50%                     353.000000                   353.000000   \n",
       "75%                     474.000000                   474.000000   \n",
       "max                    2100.000000                  2100.000000   \n",
       "\n",
       "       Minimum depth in meters  Maximum depth in meters           Year  \\\n",
       "count                  13003.0                  13003.0  175028.000000   \n",
       "mean                       0.0                      0.0    2003.722513   \n",
       "std                        0.0                      0.0      12.761199   \n",
       "min                        0.0                      0.0    1836.000000   \n",
       "25%                        0.0                      0.0    2000.000000   \n",
       "50%                        0.0                      0.0    2005.000000   \n",
       "75%                        0.0                      0.0    2012.000000   \n",
       "max                        0.0                      0.0    2020.000000   \n",
       "\n",
       "               Month            Day  \n",
       "count  166584.000000  153917.000000  \n",
       "mean        6.255030      15.467902  \n",
       "std         3.306597       8.713654  \n",
       "min         1.000000       1.000000  \n",
       "25%         3.000000       9.000000  \n",
       "50%         6.000000      15.000000  \n",
       "75%         9.000000      23.000000  \n",
       "max        12.000000      31.000000  "
      ]
     },
     "execution_count": 27,
     "metadata": {},
     "output_type": "execute_result"
    }
   ],
   "source": [
    "masterData.describe()"
   ]
  },
  {
   "cell_type": "markdown",
   "metadata": {},
   "source": [
    "### Drop Unanted columns:"
   ]
  },
  {
   "cell_type": "code",
   "execution_count": 28,
   "metadata": {},
   "outputs": [
    {
     "data": {
      "text/plain": [
       "(188196, 13)"
      ]
     },
     "execution_count": 28,
     "metadata": {},
     "output_type": "execute_result"
    }
   ],
   "source": [
    "data=masterData[['Vernacular name - original','Scientific Name','Taxon Rank','Kingdom','Phylum','Class',\n",
    "              'Family','Genus','Latitude','Longitude','Country - parsed','State - parsed','Year']]\n",
    "data.shape"
   ]
  },
  {
   "cell_type": "code",
   "execution_count": 29,
   "metadata": {},
   "outputs": [
    {
     "data": {
      "text/plain": [
       "Vernacular name - original    31089\n",
       "Scientific Name                   0\n",
       "Taxon Rank                        0\n",
       "Kingdom                           0\n",
       "Phylum                            0\n",
       "Class                             0\n",
       "Family                            0\n",
       "Genus                            35\n",
       "Latitude                       1851\n",
       "Longitude                      1851\n",
       "Country - parsed                  0\n",
       "State - parsed                    0\n",
       "Year                          13168\n",
       "dtype: int64"
      ]
     },
     "execution_count": 29,
     "metadata": {},
     "output_type": "execute_result"
    }
   ],
   "source": [
    "data.isnull().sum()"
   ]
  },
  {
   "cell_type": "code",
   "execution_count": 30,
   "metadata": {},
   "outputs": [
    {
     "data": {
      "text/plain": [
       "Macrotis lagotis                           27353\n",
       "Sarcophilus harrisii                       25559\n",
       "Numenius (Numenius) madagascariensis       18241\n",
       "Mirounga leonina                            9398\n",
       "Eubalaena australis                         9344\n",
       "                                           ...  \n",
       "Balaenoptera borealis                          1\n",
       "Perameles eremiana                             1\n",
       "Mirounga leonina leonina                       1\n",
       "Neochmia (Neochmia) ruficauda ruficauda        1\n",
       "Myrmecobius fasciatus fasciatus                1\n",
       "Name: Scientific Name, Length: 179, dtype: int64"
      ]
     },
     "execution_count": 30,
     "metadata": {},
     "output_type": "execute_result"
    }
   ],
   "source": [
    "data['Scientific Name'].value_counts()"
   ]
  },
  {
   "cell_type": "code",
   "execution_count": 31,
   "metadata": {},
   "outputs": [
    {
     "data": {
      "text/plain": [
       "Petrogale lateralis lateralis    683\n",
       "Petrogale lateralis              315\n",
       "Petrogale lateralis hacketti      82\n",
       "Name: Scientific Name, dtype: int64"
      ]
     },
     "execution_count": 31,
     "metadata": {},
     "output_type": "execute_result"
    }
   ],
   "source": [
    "a=data['Scientific Name'].loc[data['Scientific Name'].str.startswith('Petrogale lateralis', na=False)]\n",
    "a.value_counts()"
   ]
  },
  {
   "cell_type": "code",
   "execution_count": null,
   "metadata": {},
   "outputs": [],
   "source": []
  },
  {
   "cell_type": "code",
   "execution_count": 32,
   "metadata": {},
   "outputs": [
    {
     "data": {
      "text/plain": [
       "Central Rock-rat               92\n",
       "Central Australian Rock Rat     8\n",
       "Central Rock Rat                1\n",
       "Name: Vernacular name - original, dtype: int64"
      ]
     },
     "execution_count": 32,
     "metadata": {},
     "output_type": "execute_result"
    }
   ],
   "source": [
    "data['Vernacular name - original'][data['Scientific Name']==\"Zyzomys pedunculatus\"].value_counts()"
   ]
  },
  {
   "cell_type": "code",
   "execution_count": 33,
   "metadata": {},
   "outputs": [],
   "source": [
    "# mapName=data.groupby(['Scientific Name','Vernacular name - original']).sum().reset_index()"
   ]
  },
  {
   "cell_type": "code",
   "execution_count": 34,
   "metadata": {},
   "outputs": [],
   "source": [
    "# mapName.to_csv('names2.csv', sep=',', encoding='utf-8', index = False)"
   ]
  },
  {
   "cell_type": "code",
   "execution_count": 35,
   "metadata": {},
   "outputs": [
    {
     "name": "stderr",
     "output_type": "stream",
     "text": [
      "/Users/root1/opt/anaconda3/lib/python3.7/site-packages/pandas/core/indexing.py:965: SettingWithCopyWarning: \n",
      "A value is trying to be set on a copy of a slice from a DataFrame.\n",
      "Try using .loc[row_indexer,col_indexer] = value instead\n",
      "\n",
      "See the caveats in the documentation: https://pandas.pydata.org/pandas-docs/stable/user_guide/indexing.html#returning-a-view-versus-a-copy\n",
      "  self.obj[item] = s\n"
     ]
    }
   ],
   "source": [
    "# Manually removing the typos:\n",
    "\n",
    "data.loc[data['Scientific Name'] == 'Dasyurus maculatus gracilis', 'Scientific Name'] = 'Dasyurus maculatus'\n",
    "data.loc[data['Scientific Name'] == 'Mirounga leonina leonina', 'Scientific Name'] = 'Mirounga leonina'\n",
    "data.loc[data['Scientific Name'] == 'Myrmecobius fasciatus fasciatus', 'Scientific Name'] = 'Myrmecobius fasciatus'\n",
    "data.loc[data['Scientific Name'] == 'Perameles bougainville bougainville', 'Scientific Name'] = 'Perameles bougainville'\n",
    "data.loc[data['Scientific Name'] == 'Petrogale lateralis hacketti', 'Scientific Name'] = 'Petrogale lateralis'\n",
    "data.loc[data['Scientific Name'] == 'Petrogale lateralis lateralis', 'Scientific Name'] = 'Petrogale lateralis'\n",
    "data.loc[data['Scientific Name'] == 'Petrogale xanthopus xanthopus', 'Scientific Name'] = 'Petrogale xanthopus'\n",
    "data.loc[data['Scientific Name'] == 'Potorous tridactylus tridactylus', 'Scientific Name'] = 'Potorous tridactylus'"
   ]
  },
  {
   "cell_type": "code",
   "execution_count": 36,
   "metadata": {},
   "outputs": [
    {
     "data": {
      "text/plain": [
       "(152, 2)"
      ]
     },
     "execution_count": 36,
     "metadata": {},
     "output_type": "execute_result"
    }
   ],
   "source": [
    "#Read Scientific names file and fix typos in vernacular names:\n",
    "names=pa.read_csv(\"names.csv\")\n",
    "names.shape"
   ]
  },
  {
   "cell_type": "code",
   "execution_count": 37,
   "metadata": {},
   "outputs": [
    {
     "data": {
      "text/plain": [
       "Macrotis lagotis                           27353\n",
       "Sarcophilus harrisii                       25559\n",
       "Numenius (Numenius) madagascariensis       18241\n",
       "Mirounga leonina                            9399\n",
       "Eubalaena australis                         9344\n",
       "                                           ...  \n",
       "Lagorchestes hirsutus hirsutus                 2\n",
       "Trisyntopa scatophaga                          1\n",
       "Perameles eremiana                             1\n",
       "Neochmia (Neochmia) ruficauda ruficauda        1\n",
       "Balaenoptera borealis                          1\n",
       "Name: Scientific Name, Length: 171, dtype: int64"
      ]
     },
     "execution_count": 37,
     "metadata": {},
     "output_type": "execute_result"
    }
   ],
   "source": [
    "data['Scientific Name'].value_counts()"
   ]
  },
  {
   "cell_type": "code",
   "execution_count": 38,
   "metadata": {},
   "outputs": [
    {
     "data": {
      "text/plain": [
       "(188196, 13)"
      ]
     },
     "execution_count": 38,
     "metadata": {},
     "output_type": "execute_result"
    }
   ],
   "source": [
    "data.shape"
   ]
  },
  {
   "cell_type": "code",
   "execution_count": 39,
   "metadata": {},
   "outputs": [
    {
     "data": {
      "text/plain": [
       "(188196, 13)"
      ]
     },
     "execution_count": 39,
     "metadata": {},
     "output_type": "execute_result"
    }
   ],
   "source": [
    "data2=data\n",
    "data2.shape"
   ]
  },
  {
   "cell_type": "code",
   "execution_count": 40,
   "metadata": {},
   "outputs": [
    {
     "name": "stderr",
     "output_type": "stream",
     "text": [
      "/Users/root1/opt/anaconda3/lib/python3.7/site-packages/pandas/core/indexing.py:965: SettingWithCopyWarning: \n",
      "A value is trying to be set on a copy of a slice from a DataFrame.\n",
      "Try using .loc[row_indexer,col_indexer] = value instead\n",
      "\n",
      "See the caveats in the documentation: https://pandas.pydata.org/pandas-docs/stable/user_guide/indexing.html#returning-a-view-versus-a-copy\n",
      "  self.obj[item] = s\n"
     ]
    }
   ],
   "source": [
    "for i in range(len(names)):\n",
    "    data2.loc[data2['Scientific Name'] == names['Scientific Name'][i],\n",
    "              'Vernacular name - original'] =names['Vernacular name - original'][i]"
   ]
  },
  {
   "cell_type": "code",
   "execution_count": 41,
   "metadata": {},
   "outputs": [
    {
     "data": {
      "text/plain": [
       "(188196, 13)"
      ]
     },
     "execution_count": 41,
     "metadata": {},
     "output_type": "execute_result"
    }
   ],
   "source": [
    "data2.shape"
   ]
  },
  {
   "cell_type": "code",
   "execution_count": 42,
   "metadata": {},
   "outputs": [
    {
     "name": "stderr",
     "output_type": "stream",
     "text": [
      "/Users/root1/opt/anaconda3/lib/python3.7/site-packages/ipykernel_launcher.py:1: SettingWithCopyWarning: \n",
      "A value is trying to be set on a copy of a slice from a DataFrame\n",
      "\n",
      "See the caveats in the documentation: https://pandas.pydata.org/pandas-docs/stable/user_guide/indexing.html#returning-a-view-versus-a-copy\n",
      "  \"\"\"Entry point for launching an IPython kernel.\n"
     ]
    },
    {
     "data": {
      "text/plain": [
       "Sarcophilus harrisii        1\n",
       "Rheobatrachus vitellinus    1\n",
       "Notamacropus dorsalis       1\n",
       "Pseudomys australis         1\n",
       "Pseudomys delicatulus       1\n",
       "                           ..\n",
       "Taudactylus pleione         1\n",
       "Taudactylus eungellensis    1\n",
       "Leporillus apicalis         1\n",
       "Nyctophilus gouldi          1\n",
       "Dermochelys coriacea        1\n",
       "Name: Scientific Name, Length: 153, dtype: int64"
      ]
     },
     "execution_count": 42,
     "metadata": {},
     "output_type": "execute_result"
    }
   ],
   "source": [
    "data2.drop_duplicates(subset =\"Vernacular name - original\", keep = \"first\", inplace = True)\n",
    "data2['Scientific Name'].value_counts()"
   ]
  },
  {
   "cell_type": "code",
   "execution_count": 43,
   "metadata": {},
   "outputs": [
    {
     "data": {
      "text/plain": [
       "(153, 13)"
      ]
     },
     "execution_count": 43,
     "metadata": {},
     "output_type": "execute_result"
    }
   ],
   "source": [
    "#Export clean MasterDataset:\n",
    "data2.shape"
   ]
  },
  {
   "cell_type": "markdown",
   "metadata": {},
   "source": [
    "## Export Animal Desctiption:"
   ]
  },
  {
   "cell_type": "code",
   "execution_count": 39,
   "metadata": {},
   "outputs": [
    {
     "name": "stderr",
     "output_type": "stream",
     "text": [
      "/Users/root1/opt/anaconda3/lib/python3.7/site-packages/ipykernel_launcher.py:3: SettingWithCopyWarning: \n",
      "A value is trying to be set on a copy of a slice from a DataFrame\n",
      "\n",
      "See the caveats in the documentation: https://pandas.pydata.org/pandas-docs/stable/user_guide/indexing.html#returning-a-view-versus-a-copy\n",
      "  This is separate from the ipykernel package so we can avoid doing imports until\n"
     ]
    }
   ],
   "source": [
    "animalExport=data2[['Vernacular name - original','Scientific Name','Taxon Rank','Kingdom','Phylum','Class',\n",
    "              'Family','Genus']]\n",
    "animalExport.drop_duplicates(inplace=True)"
   ]
  },
  {
   "cell_type": "code",
   "execution_count": 53,
   "metadata": {},
   "outputs": [
    {
     "name": "stderr",
     "output_type": "stream",
     "text": [
      "/Users/root1/opt/anaconda3/lib/python3.7/site-packages/ipykernel_launcher.py:1: SettingWithCopyWarning: \n",
      "A value is trying to be set on a copy of a slice from a DataFrame\n",
      "\n",
      "See the caveats in the documentation: https://pandas.pydata.org/pandas-docs/stable/user_guide/indexing.html#returning-a-view-versus-a-copy\n",
      "  \"\"\"Entry point for launching an IPython kernel.\n",
      "/Users/root1/opt/anaconda3/lib/python3.7/site-packages/ipykernel_launcher.py:2: SettingWithCopyWarning: \n",
      "A value is trying to be set on a copy of a slice from a DataFrame\n",
      "\n",
      "See the caveats in the documentation: https://pandas.pydata.org/pandas-docs/stable/user_guide/indexing.html#returning-a-view-versus-a-copy\n",
      "  \n"
     ]
    }
   ],
   "source": [
    "animalExport.dropna(inplace=True)\n",
    "animalExport.drop_duplicates(subset =\"Vernacular name - original\", keep = \"first\", inplace = True)"
   ]
  },
  {
   "cell_type": "code",
   "execution_count": 54,
   "metadata": {},
   "outputs": [
    {
     "data": {
      "text/plain": [
       "(151, 8)"
      ]
     },
     "execution_count": 54,
     "metadata": {},
     "output_type": "execute_result"
    }
   ],
   "source": [
    "animalExport.shape"
   ]
  },
  {
   "cell_type": "code",
   "execution_count": 55,
   "metadata": {},
   "outputs": [],
   "source": [
    "# animalExport.to_csv('Final/AnimalExplorer.csv', sep=',', encoding='utf-8', index = False)"
   ]
  },
  {
   "cell_type": "code",
   "execution_count": null,
   "metadata": {},
   "outputs": [],
   "source": []
  },
  {
   "cell_type": "code",
   "execution_count": null,
   "metadata": {},
   "outputs": [],
   "source": [
    "data.dropna(inplace=True)\n",
    "data.shape"
   ]
  },
  {
   "cell_type": "code",
   "execution_count": null,
   "metadata": {
    "scrolled": true
   },
   "outputs": [],
   "source": [
    "# a=data['Scientific Name'].loc[data['Scientific Name'].str.startswith('Potorous tridactylus', na=False)]"
   ]
  },
  {
   "cell_type": "code",
   "execution_count": null,
   "metadata": {},
   "outputs": [],
   "source": [
    "data['Scientific Name'].nunique()"
   ]
  },
  {
   "cell_type": "code",
   "execution_count": null,
   "metadata": {},
   "outputs": [],
   "source": [
    "data.groupby(['Scientific Name','Vernacular name - original']).count()"
   ]
  },
  {
   "cell_type": "code",
   "execution_count": null,
   "metadata": {},
   "outputs": [],
   "source": [
    "masterData[masterData.Year<=1950]"
   ]
  },
  {
   "cell_type": "markdown",
   "metadata": {},
   "source": [
    "# Generalize Function:"
   ]
  },
  {
   "cell_type": "markdown",
   "metadata": {},
   "source": [
    "## yearWise Distribution:\n",
    "Looking at the graph we can say 99% of the data points falls after 1960:"
   ]
  },
  {
   "cell_type": "code",
   "execution_count": null,
   "metadata": {},
   "outputs": [],
   "source": [
    "masterData.Year.plot.hist(bins=15, alpha=1)"
   ]
  },
  {
   "cell_type": "code",
   "execution_count": null,
   "metadata": {
    "scrolled": true
   },
   "outputs": [],
   "source": [
    "#Filter the VIC Dataset 1960 < Year >2020:\n",
    "data=vicData[vicData.Year>=1960]\n",
    "data.shape\n",
    "#Drop un-wanted rows:\n",
    "data=data[['Vernacular name - original','Scientific Name','Taxon Rank','Kingdom','Phylum','Class',\n",
    "              'Family','Genus','Latitude','Longitude','Country - parsed','State - parsed','Year']]\n",
    "data.shape"
   ]
  },
  {
   "cell_type": "code",
   "execution_count": null,
   "metadata": {},
   "outputs": [],
   "source": [
    "data.isnull().sum()"
   ]
  },
  {
   "cell_type": "code",
   "execution_count": null,
   "metadata": {},
   "outputs": [],
   "source": [
    "## To pre-process all datasets for all the states\n",
    "def process(inputFile,outputFile):\n",
    "    inputPath=\"States/\"\n",
    "    outPath=\"CleanStates/\"\n",
    "    path=inputPath+inputFile+\".csv\"\n",
    "    data=pa.read_csv(path)\n",
    "    print(inputFile+str(data.shape))\n",
    "    metadata=open(inputFile+'.txt','w+')\n",
    "    metadata.write(\"Shape:\"+str(data.shape))\n",
    "    metadata.write(str(data.columns))\n",
    "    data=data[['Vernacular name - original','Scientific Name','Taxon Rank','Kingdom','Phylum','Class',\n",
    "              'Family','Genus','Latitude','Longitude','Country - parsed','State - parsed','Year','Individual count']]\n",
    "    metadata.write(\"Shape selected Columns:\"+str(data.shape))\n",
    "    data.dropna(inplace=True)\n",
    "    data.reset_index(drop=True, inplace=True)\n",
    "    metadata.write(\"Shape after NA:\"+str(data.shape))\n",
    "    data[['Year','Individual count']]=data[['Year','Individual count']].astype(int)\n",
    "    data=data.sort_values(['Year','Scientific Name'],ascending=False)\n",
    "    data.to_csv(outPath+outputFile+'.csv', sep=',', encoding='utf-8', index = False)"
   ]
  },
  {
   "cell_type": "code",
   "execution_count": null,
   "metadata": {},
   "outputs": [],
   "source": [
    "data['Scientific Name'].value_counts()"
   ]
  },
  {
   "cell_type": "code",
   "execution_count": null,
   "metadata": {},
   "outputs": [],
   "source": [
    "data.groupby(['Scientific Name','Vernacular name - original']).sum()"
   ]
  },
  {
   "cell_type": "code",
   "execution_count": null,
   "metadata": {},
   "outputs": [],
   "source": [
    "a=data.groupby(['Scientific Name','Vernacular name - original']).sum().reset_index()"
   ]
  },
  {
   "cell_type": "code",
   "execution_count": null,
   "metadata": {},
   "outputs": [],
   "source": []
  },
  {
   "cell_type": "code",
   "execution_count": null,
   "metadata": {},
   "outputs": [],
   "source": [
    "masterData.groupby(['Scientific Name','Vernacular name - original']).sum().reset_index()"
   ]
  },
  {
   "cell_type": "code",
   "execution_count": null,
   "metadata": {},
   "outputs": [],
   "source": [
    "mapName=masterData.groupby(['Scientific Name','Vernacular name - original']).sum().reset_index()"
   ]
  },
  {
   "cell_type": "code",
   "execution_count": null,
   "metadata": {},
   "outputs": [],
   "source": [
    "# mapName.to_csv('names.csv', sep=',', encoding='utf-8', index = False)"
   ]
  },
  {
   "cell_type": "code",
   "execution_count": null,
   "metadata": {},
   "outputs": [],
   "source": []
  },
  {
   "cell_type": "code",
   "execution_count": null,
   "metadata": {},
   "outputs": [],
   "source": []
  },
  {
   "cell_type": "code",
   "execution_count": null,
   "metadata": {},
   "outputs": [],
   "source": []
  },
  {
   "cell_type": "code",
   "execution_count": null,
   "metadata": {},
   "outputs": [],
   "source": []
  },
  {
   "cell_type": "code",
   "execution_count": null,
   "metadata": {},
   "outputs": [],
   "source": []
  },
  {
   "cell_type": "code",
   "execution_count": null,
   "metadata": {},
   "outputs": [],
   "source": []
  },
  {
   "cell_type": "code",
   "execution_count": null,
   "metadata": {},
   "outputs": [],
   "source": []
  },
  {
   "cell_type": "code",
   "execution_count": null,
   "metadata": {},
   "outputs": [],
   "source": []
  },
  {
   "cell_type": "code",
   "execution_count": null,
   "metadata": {},
   "outputs": [],
   "source": []
  },
  {
   "cell_type": "code",
   "execution_count": null,
   "metadata": {},
   "outputs": [],
   "source": []
  },
  {
   "cell_type": "code",
   "execution_count": null,
   "metadata": {},
   "outputs": [],
   "source": []
  },
  {
   "cell_type": "code",
   "execution_count": null,
   "metadata": {},
   "outputs": [],
   "source": []
  },
  {
   "cell_type": "code",
   "execution_count": null,
   "metadata": {},
   "outputs": [],
   "source": []
  },
  {
   "cell_type": "code",
   "execution_count": null,
   "metadata": {},
   "outputs": [],
   "source": []
  },
  {
   "cell_type": "code",
   "execution_count": null,
   "metadata": {},
   "outputs": [],
   "source": []
  },
  {
   "cell_type": "code",
   "execution_count": null,
   "metadata": {},
   "outputs": [],
   "source": []
  },
  {
   "cell_type": "code",
   "execution_count": null,
   "metadata": {},
   "outputs": [],
   "source": []
  },
  {
   "cell_type": "code",
   "execution_count": null,
   "metadata": {},
   "outputs": [],
   "source": []
  }
 ],
 "metadata": {
  "kernelspec": {
   "display_name": "Python 3",
   "language": "python",
   "name": "python3"
  },
  "language_info": {
   "codemirror_mode": {
    "name": "ipython",
    "version": 3
   },
   "file_extension": ".py",
   "mimetype": "text/x-python",
   "name": "python",
   "nbconvert_exporter": "python",
   "pygments_lexer": "ipython3",
   "version": "3.7.6"
  }
 },
 "nbformat": 4,
 "nbformat_minor": 4
}
